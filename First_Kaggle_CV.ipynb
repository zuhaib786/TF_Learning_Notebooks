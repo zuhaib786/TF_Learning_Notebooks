{
  "nbformat": 4,
  "nbformat_minor": 0,
  "metadata": {
    "colab": {
      "provenance": [],
      "authorship_tag": "ABX9TyNIhUNl2K6TYXqwzJUmTXw5",
      "include_colab_link": true
    },
    "kernelspec": {
      "name": "python3",
      "display_name": "Python 3"
    },
    "language_info": {
      "name": "python"
    },
    "accelerator": "GPU",
    "gpuClass": "standard"
  },
  "cells": [
    {
      "cell_type": "markdown",
      "metadata": {
        "id": "view-in-github",
        "colab_type": "text"
      },
      "source": [
        "<a href=\"https://colab.research.google.com/github/zuhaib786/TF_Learning_Notebooks/blob/main/First_Kaggle_CV.ipynb\" target=\"_parent\"><img src=\"https://colab.research.google.com/assets/colab-badge.svg\" alt=\"Open In Colab\"/></a>"
      ]
    },
    {
      "cell_type": "markdown",
      "source": [
        "# Cat vs Dog Classifier\n",
        "My first implementation of a cat vs dog classifier"
      ],
      "metadata": {
        "id": "c8hsE6eS9KKx"
      }
    },
    {
      "cell_type": "code",
      "execution_count": 1,
      "metadata": {
        "id": "RDy3FNAwX0mF"
      },
      "outputs": [],
      "source": [
        "import numpy as np\n",
        "import pandas as pd\n",
        "import cv2\n",
        "import tensorflow as tf\n",
        "import torch\n",
        "from matplotlib import pyplot as plt\n",
        "import os\n"
      ]
    },
    {
      "cell_type": "code",
      "source": [
        "\n",
        "os.environ['KAGGLE_CONFIG_DIR'] = \"/content\"\n",
        "!kaggle competitions download -c dogs-vs-cats"
      ],
      "metadata": {
        "colab": {
          "base_uri": "https://localhost:8080/"
        },
        "id": "aCmxfP3xb3pv",
        "outputId": "d90036c3-79f1-4ef6-a6c6-6b9ae62442b0"
      },
      "execution_count": 2,
      "outputs": [
        {
          "output_type": "stream",
          "name": "stdout",
          "text": [
            "Warning: Your Kaggle API key is readable by other users on this system! To fix this, you can run 'chmod 600 /content/kaggle.json'\n",
            "Downloading dogs-vs-cats.zip to /content\n",
            "100% 812M/812M [00:20<00:00, 43.9MB/s]\n",
            "100% 812M/812M [00:20<00:00, 41.3MB/s]\n"
          ]
        }
      ]
    },
    {
      "cell_type": "code",
      "source": [
        "!unzip dogs-vs-cats.zip"
      ],
      "metadata": {
        "colab": {
          "base_uri": "https://localhost:8080/"
        },
        "id": "rz_xeYaqcMAM",
        "outputId": "3243e072-8ee3-4547-d51f-7cc3312009af"
      },
      "execution_count": 3,
      "outputs": [
        {
          "output_type": "stream",
          "name": "stdout",
          "text": [
            "Archive:  dogs-vs-cats.zip\n",
            "  inflating: sampleSubmission.csv    \n",
            "  inflating: test1.zip               \n",
            "  inflating: train.zip               \n"
          ]
        }
      ]
    },
    {
      "cell_type": "code",
      "source": [
        "!unzip -qq train.zip -d data"
      ],
      "metadata": {
        "id": "3tlDn-CJcVSG"
      },
      "execution_count": 4,
      "outputs": []
    },
    {
      "cell_type": "code",
      "source": [
        "!mkdir /content/data/cats\n",
        "!mkdir /content/data/dogs"
      ],
      "metadata": {
        "id": "5gHbzyZoSWEx"
      },
      "execution_count": 5,
      "outputs": []
    },
    {
      "cell_type": "code",
      "source": [
        "source = '/content/data/train'\n",
        "cat_dest = '/content/data/cats'\n",
        "dog_dest = '/content/data/dogs'"
      ],
      "metadata": {
        "id": "2nEy4MJjSNwo"
      },
      "execution_count": 6,
      "outputs": []
    },
    {
      "cell_type": "code",
      "source": [
        "\n",
        "files = os.listdir('/content/data/train')\n",
        "files[0]\n"
      ],
      "metadata": {
        "colab": {
          "base_uri": "https://localhost:8080/",
          "height": 35
        },
        "id": "-mbNZmh9YCar",
        "outputId": "5fa8df20-4fa6-4b59-ebfc-614ef0906267"
      },
      "execution_count": 7,
      "outputs": [
        {
          "output_type": "execute_result",
          "data": {
            "text/plain": [
              "'dog.9876.jpg'"
            ],
            "application/vnd.google.colaboratory.intrinsic+json": {
              "type": "string"
            }
          },
          "metadata": {},
          "execution_count": 7
        }
      ]
    },
    {
      "cell_type": "code",
      "source": [
        "def getClass(filename):\n",
        "    filename = filename[0:3]\n",
        "    if filename == 'cat':\n",
        "        return 0\n",
        "    return 1\n"
      ],
      "metadata": {
        "id": "fVv0Km0OYFnU"
      },
      "execution_count": 8,
      "outputs": []
    },
    {
      "cell_type": "code",
      "source": [
        "for f in files:\n",
        "  src_path = os.path.join(source, f)\n",
        "  if getClass(f) == 0:\n",
        "    dest_path = os.path.join(cat_dest, f)\n",
        "  else:\n",
        "    dest_path = os.path.join(dog_dest, f)\n",
        "  os.rename(src_path, dest_path)"
      ],
      "metadata": {
        "id": "3sz-TTYxT5_f"
      },
      "execution_count": 9,
      "outputs": []
    },
    {
      "cell_type": "code",
      "source": [
        "!mkdir data/valid\n",
        "!mkdir data/train/cats\n",
        "!mkdir data/train/dogs\n",
        "!mkdir data/valid/dogs\n",
        "!mkdir data/valid/cats"
      ],
      "metadata": {
        "id": "PUZ3i9kpL6CX"
      },
      "execution_count": 10,
      "outputs": []
    },
    {
      "cell_type": "code",
      "source": [
        "cat_dest_train = '/content/data/train/cats'\n",
        "cat_dest_valid = '/content/data/valid/cats'\n",
        "dog_dest_train = '/content/data/train/dogs'\n",
        "dog_dest_valid = '/content/data/valid/dogs'\n"
      ],
      "metadata": {
        "id": "YDR17Q3JlqmQ"
      },
      "execution_count": 11,
      "outputs": []
    },
    {
      "cell_type": "code",
      "source": [
        "cat_files = os.listdir(cat_dest)\n",
        "dog_files = os.listdir(dog_dest)\n",
        "for i, id in enumerate(cat_files):\n",
        "  if i >=12000:\n",
        "    dest = os.path.join(cat_dest_valid, id)\n",
        "    source = os.path.join(cat_dest, id)\n",
        "  else:\n",
        "    dest = os.path.join(cat_dest_train, id)\n",
        "    source =os.path.join(cat_dest, id)\n",
        "  os.rename(source, dest)\n",
        "for i, id in enumerate(dog_files):\n",
        "  if i >=12000:\n",
        "    dest = os.path.join(dog_dest_valid, id)\n",
        "    source = os.path.join(dog_dest, id)\n",
        "  else:\n",
        "    dest = os.path.join(dog_dest_train, id)\n",
        "    source =os.path.join(dog_dest, id)\n",
        "  os.rename(source, dest)"
      ],
      "metadata": {
        "id": "ZTA5aTe0lyLD"
      },
      "execution_count": 12,
      "outputs": []
    },
    {
      "cell_type": "code",
      "source": [
        "import keras\n",
        "from keras.models import Sequential\n",
        "from keras.layers import   Conv2D, Activation, Dropout, MaxPooling2D, Flatten, Dense\n",
        "from keras import regularizers, optimizers\n",
        "model = Sequential()\n",
        "model.add(Conv2D(32, (3, 3), padding='same',\n",
        "                 input_shape=(100,100,3)))\n",
        "model.add(Activation('relu'))\n",
        "model.add(Conv2D(32, (3, 3)))\n",
        "model.add(Activation('relu'))\n",
        "model.add(MaxPooling2D(pool_size=(2, 2)))\n",
        "model.add(Dropout(0.25))\n",
        "model.add(Conv2D(64, (3, 3), padding='same'))\n",
        "model.add(Activation('relu'))\n",
        "model.add(Conv2D(64, (3, 3)))\n",
        "model.add(Activation('relu'))\n",
        "model.add(MaxPooling2D(pool_size=(2, 2)))\n",
        "model.add(Dropout(0.25))\n",
        "model.add(Flatten())\n",
        "model.add(Dense(512))\n",
        "model.add(Activation('relu'))\n",
        "model.add(Dropout(0.5))\n",
        "model.add(Dense(1, activation='sigmoid'))\n",
        "model.compile(optimizers.RMSprop(learning_rate=0.0001, decay=1e-6),loss=\"binary_crossentropy\",metrics=[\"accuracy\"])"
      ],
      "metadata": {
        "id": "N4HOkoOunPJw"
      },
      "execution_count": 13,
      "outputs": []
    },
    {
      "cell_type": "code",
      "source": [
        "model.summary()"
      ],
      "metadata": {
        "colab": {
          "base_uri": "https://localhost:8080/"
        },
        "id": "ISEZ0LTmn84S",
        "outputId": "c944df66-cec8-4291-c066-c4f8d45e432f"
      },
      "execution_count": 14,
      "outputs": [
        {
          "output_type": "stream",
          "name": "stdout",
          "text": [
            "Model: \"sequential\"\n",
            "_________________________________________________________________\n",
            " Layer (type)                Output Shape              Param #   \n",
            "=================================================================\n",
            " conv2d (Conv2D)             (None, 100, 100, 32)      896       \n",
            "                                                                 \n",
            " activation (Activation)     (None, 100, 100, 32)      0         \n",
            "                                                                 \n",
            " conv2d_1 (Conv2D)           (None, 98, 98, 32)        9248      \n",
            "                                                                 \n",
            " activation_1 (Activation)   (None, 98, 98, 32)        0         \n",
            "                                                                 \n",
            " max_pooling2d (MaxPooling2D  (None, 49, 49, 32)       0         \n",
            " )                                                               \n",
            "                                                                 \n",
            " dropout (Dropout)           (None, 49, 49, 32)        0         \n",
            "                                                                 \n",
            " conv2d_2 (Conv2D)           (None, 49, 49, 64)        18496     \n",
            "                                                                 \n",
            " activation_2 (Activation)   (None, 49, 49, 64)        0         \n",
            "                                                                 \n",
            " conv2d_3 (Conv2D)           (None, 47, 47, 64)        36928     \n",
            "                                                                 \n",
            " activation_3 (Activation)   (None, 47, 47, 64)        0         \n",
            "                                                                 \n",
            " max_pooling2d_1 (MaxPooling  (None, 23, 23, 64)       0         \n",
            " 2D)                                                             \n",
            "                                                                 \n",
            " dropout_1 (Dropout)         (None, 23, 23, 64)        0         \n",
            "                                                                 \n",
            " flatten (Flatten)           (None, 33856)             0         \n",
            "                                                                 \n",
            " dense (Dense)               (None, 512)               17334784  \n",
            "                                                                 \n",
            " activation_4 (Activation)   (None, 512)               0         \n",
            "                                                                 \n",
            " dropout_2 (Dropout)         (None, 512)               0         \n",
            "                                                                 \n",
            " dense_1 (Dense)             (None, 1)                 513       \n",
            "                                                                 \n",
            "=================================================================\n",
            "Total params: 17,400,865\n",
            "Trainable params: 17,400,865\n",
            "Non-trainable params: 0\n",
            "_________________________________________________________________\n"
          ]
        }
      ]
    },
    {
      "cell_type": "code",
      "source": [
        "from keras_preprocessing.image import ImageDataGenerator\n",
        "datagen=ImageDataGenerator(rescale=1./255.)\n",
        "test_datagen=ImageDataGenerator(rescale=1./255.)\n",
        "train_generator=datagen.flow_from_directory(\n",
        "    directory = 'data/train',\n",
        "    class_mode= 'binary', \n",
        "    batch_size=8,\n",
        "    target_size = (100, 100), \n",
        "    shuffle=True\n",
        ")\n",
        "valid_generator = test_datagen.flow_from_directory(\n",
        "    directory = 'data/valid',\n",
        "    class_mode = 'binary',\n",
        "    target_size = (100, 100),\n",
        "    batch_size = 8,\n",
        "    shuffle = False\n",
        ")"
      ],
      "metadata": {
        "colab": {
          "base_uri": "https://localhost:8080/"
        },
        "id": "-pkWRkAkpQJx",
        "outputId": "99c4070a-dc72-4e00-99e5-06c5823060a3"
      },
      "execution_count": 15,
      "outputs": [
        {
          "output_type": "stream",
          "name": "stdout",
          "text": [
            "Found 24000 images belonging to 2 classes.\n",
            "Found 1000 images belonging to 2 classes.\n"
          ]
        }
      ]
    },
    {
      "cell_type": "code",
      "source": [
        "STEP_SIZE_TRAIN=train_generator.n//train_generator.batch_size\n",
        "STEP_SIZE_VALID=valid_generator.n//valid_generator.batch_size"
      ],
      "metadata": {
        "id": "K8kh-TBxqaxC"
      },
      "execution_count": 16,
      "outputs": []
    },
    {
      "cell_type": "code",
      "source": [
        "model.fit_generator(generator=train_generator,\n",
        "                    steps_per_epoch=STEP_SIZE_TRAIN,\n",
        "                    validation_data=valid_generator,\n",
        "                    validation_steps=STEP_SIZE_VALID,\n",
        "                    epochs=10\n",
        ")"
      ],
      "metadata": {
        "colab": {
          "base_uri": "https://localhost:8080/"
        },
        "id": "Vixi1rJjqvQd",
        "outputId": "65977fb6-c153-4d54-eb80-fb81ea77965b"
      },
      "execution_count": 17,
      "outputs": [
        {
          "output_type": "stream",
          "name": "stdout",
          "text": [
            "Epoch 1/10\n"
          ]
        },
        {
          "output_type": "stream",
          "name": "stderr",
          "text": [
            "<ipython-input-17-7e17ccb8d9c1>:1: UserWarning: `Model.fit_generator` is deprecated and will be removed in a future version. Please use `Model.fit`, which supports generators.\n",
            "  model.fit_generator(generator=train_generator,\n"
          ]
        },
        {
          "output_type": "stream",
          "name": "stdout",
          "text": [
            "3000/3000 [==============================] - 97s 29ms/step - loss: 0.5864 - accuracy: 0.6777 - val_loss: 0.5208 - val_accuracy: 0.7290\n",
            "Epoch 2/10\n",
            "3000/3000 [==============================] - 83s 28ms/step - loss: 0.5026 - accuracy: 0.7545 - val_loss: 0.4788 - val_accuracy: 0.7740\n",
            "Epoch 3/10\n",
            "3000/3000 [==============================] - 83s 28ms/step - loss: 0.4674 - accuracy: 0.7809 - val_loss: 0.4445 - val_accuracy: 0.8000\n",
            "Epoch 4/10\n",
            "3000/3000 [==============================] - 85s 28ms/step - loss: 0.4322 - accuracy: 0.8035 - val_loss: 0.4431 - val_accuracy: 0.7980\n",
            "Epoch 5/10\n",
            "3000/3000 [==============================] - 83s 28ms/step - loss: 0.4070 - accuracy: 0.8181 - val_loss: 0.4179 - val_accuracy: 0.8140\n",
            "Epoch 6/10\n",
            "3000/3000 [==============================] - 85s 28ms/step - loss: 0.3934 - accuracy: 0.8294 - val_loss: 0.4158 - val_accuracy: 0.8190\n",
            "Epoch 7/10\n",
            "3000/3000 [==============================] - 82s 27ms/step - loss: 0.3816 - accuracy: 0.8346 - val_loss: 0.4255 - val_accuracy: 0.8010\n",
            "Epoch 8/10\n",
            "3000/3000 [==============================] - 82s 27ms/step - loss: 0.3720 - accuracy: 0.8440 - val_loss: 0.3910 - val_accuracy: 0.8340\n",
            "Epoch 9/10\n",
            "3000/3000 [==============================] - 84s 28ms/step - loss: 0.3630 - accuracy: 0.8473 - val_loss: 0.3923 - val_accuracy: 0.8310\n",
            "Epoch 10/10\n",
            "3000/3000 [==============================] - 85s 28ms/step - loss: 0.3562 - accuracy: 0.8503 - val_loss: 0.3903 - val_accuracy: 0.8260\n"
          ]
        },
        {
          "output_type": "execute_result",
          "data": {
            "text/plain": [
              "<keras.callbacks.History at 0x7faba6f88760>"
            ]
          },
          "metadata": {},
          "execution_count": 17
        }
      ]
    },
    {
      "cell_type": "code",
      "source": [
        "!unzip -qq test1.zip"
      ],
      "metadata": {
        "id": "O94vReKNryfw"
      },
      "execution_count": null,
      "outputs": []
    },
    {
      "cell_type": "code",
      "source": [
        "len(os.listdir('test1'))"
      ],
      "metadata": {
        "colab": {
          "base_uri": "https://localhost:8080/"
        },
        "id": "hQAcRFmd3WDX",
        "outputId": "eba95055-b018-42c7-fc5c-62cdf02c7255"
      },
      "execution_count": 19,
      "outputs": [
        {
          "output_type": "execute_result",
          "data": {
            "text/plain": [
              "12500"
            ]
          },
          "metadata": {},
          "execution_count": 19
        }
      ]
    },
    {
      "cell_type": "code",
      "source": [],
      "metadata": {
        "colab": {
          "base_uri": "https://localhost:8080/"
        },
        "id": "mHT8RLrE3eft",
        "outputId": "37c596c0-9f49-4389-9072-ab5606eae822"
      },
      "execution_count": 21,
      "outputs": [
        {
          "output_type": "stream",
          "name": "stdout",
          "text": [
            "Found 0 images belonging to 0 classes.\n"
          ]
        },
        {
          "output_type": "execute_result",
          "data": {
            "text/plain": [
              "<keras_preprocessing.image.directory_iterator.DirectoryIterator at 0x7fab85e7f130>"
            ]
          },
          "metadata": {},
          "execution_count": 21
        }
      ]
    },
    {
      "cell_type": "code",
      "source": [
        "files = os.listdir('test1')\n",
        "files[0]\n"
      ],
      "metadata": {
        "colab": {
          "base_uri": "https://localhost:8080/",
          "height": 35
        },
        "id": "xPRt2_mk4Obx",
        "outputId": "0327ab24-c850-4fa6-beb1-4ea17719d808"
      },
      "execution_count": 22,
      "outputs": [
        {
          "output_type": "execute_result",
          "data": {
            "text/plain": [
              "'5219.jpg'"
            ],
            "application/vnd.google.colaboratory.intrinsic+json": {
              "type": "string"
            }
          },
          "metadata": {},
          "execution_count": 22
        }
      ]
    },
    {
      "cell_type": "code",
      "source": [
        "!mkdir test1/all"
      ],
      "metadata": {
        "id": "rqfkS9AI45PH"
      },
      "execution_count": 23,
      "outputs": []
    },
    {
      "cell_type": "code",
      "source": [
        "source = '/content/test1'\n",
        "dest = '/content/test1/all'\n",
        "for file in files:\n",
        "  source_name = os.path.join(source, file)\n",
        "  dest_name = os.path.join(dest, file)\n",
        "  os.rename(source_name, dest_name)"
      ],
      "metadata": {
        "id": "b4HZNHZW4z3w"
      },
      "execution_count": 24,
      "outputs": []
    },
    {
      "cell_type": "code",
      "source": [
        "os.listdir('test1')"
      ],
      "metadata": {
        "colab": {
          "base_uri": "https://localhost:8080/"
        },
        "id": "RThs8bGk5Jnt",
        "outputId": "b1fde940-c1ae-407a-a742-8001dea42820"
      },
      "execution_count": 26,
      "outputs": [
        {
          "output_type": "execute_result",
          "data": {
            "text/plain": [
              "['all']"
            ]
          },
          "metadata": {},
          "execution_count": 26
        }
      ]
    },
    {
      "cell_type": "code",
      "source": [
        "test_datagen=ImageDataGenerator(rescale=1./255.)\n",
        "\n",
        "test_generator = test_datagen.flow_from_directory(\n",
        "directory = '/content/test1',\n",
        "batch_size=1,\n",
        "seed=42,\n",
        "shuffle=False,\n",
        "class_mode=None,\n",
        "target_size=(100,100))"
      ],
      "metadata": {
        "colab": {
          "base_uri": "https://localhost:8080/"
        },
        "id": "syIUa9X64Zkm",
        "outputId": "dbaa7011-1be1-4342-f342-9b521de2aa52"
      },
      "execution_count": 29,
      "outputs": [
        {
          "output_type": "stream",
          "name": "stdout",
          "text": [
            "Found 12500 images belonging to 1 classes.\n"
          ]
        }
      ]
    },
    {
      "cell_type": "code",
      "source": [
        "pred=model.predict_generator(test_generator,\n",
        "verbose=1)"
      ],
      "metadata": {
        "colab": {
          "base_uri": "https://localhost:8080/"
        },
        "id": "Wn3dkkLn5OW5",
        "outputId": "4503e208-dfbe-444e-cc5e-c3601f955e32"
      },
      "execution_count": 30,
      "outputs": [
        {
          "output_type": "stream",
          "name": "stderr",
          "text": [
            "<ipython-input-30-2fbec8efda99>:1: UserWarning: `Model.predict_generator` is deprecated and will be removed in a future version. Please use `Model.predict`, which supports generators.\n",
            "  pred=model.predict_generator(test_generator,\n"
          ]
        },
        {
          "output_type": "stream",
          "name": "stdout",
          "text": [
            "12500/12500 [==============================] - 54s 4ms/step\n"
          ]
        }
      ]
    },
    {
      "cell_type": "code",
      "source": [
        "train_generator.class_indices"
      ],
      "metadata": {
        "colab": {
          "base_uri": "https://localhost:8080/"
        },
        "id": "zSz1qUco5VBc",
        "outputId": "0b34a8a0-e74e-4fd0-81a3-43c1c7814961"
      },
      "execution_count": 32,
      "outputs": [
        {
          "output_type": "execute_result",
          "data": {
            "text/plain": [
              "{'cats': 0, 'dogs': 1}"
            ]
          },
          "metadata": {},
          "execution_count": 32
        }
      ]
    },
    {
      "cell_type": "code",
      "source": [
        "predictions = pred > 0.5"
      ],
      "metadata": {
        "id": "09WLX1O75qpo"
      },
      "execution_count": 33,
      "outputs": []
    },
    {
      "cell_type": "code",
      "source": [
        "predictions = predictions.astype(int)\n",
        "predictions[0]"
      ],
      "metadata": {
        "colab": {
          "base_uri": "https://localhost:8080/"
        },
        "id": "kb8q-wKK6EeX",
        "outputId": "334000e0-208f-47f1-cb8f-cc67ff1836ca"
      },
      "execution_count": 36,
      "outputs": [
        {
          "output_type": "execute_result",
          "data": {
            "text/plain": [
              "array([1])"
            ]
          },
          "metadata": {},
          "execution_count": 36
        }
      ]
    },
    {
      "cell_type": "code",
      "source": [
        "preds = predictions.tolist()\n",
        "preds"
      ],
      "metadata": {
        "id": "fc4709qL6F5C"
      },
      "execution_count": null,
      "outputs": []
    },
    {
      "cell_type": "code",
      "source": [
        "data = []\n",
        "for pred in preds:\n",
        "  data.append(pred[0])\n",
        "Di = {'id' : list( range(1,  len(preds) + 1)), 'label' : data}\n",
        "df = pd.DataFrame.from_dict(Di)\n",
        "df.head()"
      ],
      "metadata": {
        "colab": {
          "base_uri": "https://localhost:8080/",
          "height": 206
        },
        "id": "s_1Sn1RF6Zfx",
        "outputId": "ee5b3222-ad2a-4b47-97c8-9dd78b1da827"
      },
      "execution_count": 41,
      "outputs": [
        {
          "output_type": "execute_result",
          "data": {
            "text/plain": [
              "   id  label\n",
              "0   1      1\n",
              "1   2      0\n",
              "2   3      0\n",
              "3   4      1\n",
              "4   5      1"
            ],
            "text/html": [
              "\n",
              "  <div id=\"df-71dec8a4-7dbc-4637-91e6-109d5222a9ea\">\n",
              "    <div class=\"colab-df-container\">\n",
              "      <div>\n",
              "<style scoped>\n",
              "    .dataframe tbody tr th:only-of-type {\n",
              "        vertical-align: middle;\n",
              "    }\n",
              "\n",
              "    .dataframe tbody tr th {\n",
              "        vertical-align: top;\n",
              "    }\n",
              "\n",
              "    .dataframe thead th {\n",
              "        text-align: right;\n",
              "    }\n",
              "</style>\n",
              "<table border=\"1\" class=\"dataframe\">\n",
              "  <thead>\n",
              "    <tr style=\"text-align: right;\">\n",
              "      <th></th>\n",
              "      <th>id</th>\n",
              "      <th>label</th>\n",
              "    </tr>\n",
              "  </thead>\n",
              "  <tbody>\n",
              "    <tr>\n",
              "      <th>0</th>\n",
              "      <td>1</td>\n",
              "      <td>1</td>\n",
              "    </tr>\n",
              "    <tr>\n",
              "      <th>1</th>\n",
              "      <td>2</td>\n",
              "      <td>0</td>\n",
              "    </tr>\n",
              "    <tr>\n",
              "      <th>2</th>\n",
              "      <td>3</td>\n",
              "      <td>0</td>\n",
              "    </tr>\n",
              "    <tr>\n",
              "      <th>3</th>\n",
              "      <td>4</td>\n",
              "      <td>1</td>\n",
              "    </tr>\n",
              "    <tr>\n",
              "      <th>4</th>\n",
              "      <td>5</td>\n",
              "      <td>1</td>\n",
              "    </tr>\n",
              "  </tbody>\n",
              "</table>\n",
              "</div>\n",
              "      <button class=\"colab-df-convert\" onclick=\"convertToInteractive('df-71dec8a4-7dbc-4637-91e6-109d5222a9ea')\"\n",
              "              title=\"Convert this dataframe to an interactive table.\"\n",
              "              style=\"display:none;\">\n",
              "        \n",
              "  <svg xmlns=\"http://www.w3.org/2000/svg\" height=\"24px\"viewBox=\"0 0 24 24\"\n",
              "       width=\"24px\">\n",
              "    <path d=\"M0 0h24v24H0V0z\" fill=\"none\"/>\n",
              "    <path d=\"M18.56 5.44l.94 2.06.94-2.06 2.06-.94-2.06-.94-.94-2.06-.94 2.06-2.06.94zm-11 1L8.5 8.5l.94-2.06 2.06-.94-2.06-.94L8.5 2.5l-.94 2.06-2.06.94zm10 10l.94 2.06.94-2.06 2.06-.94-2.06-.94-.94-2.06-.94 2.06-2.06.94z\"/><path d=\"M17.41 7.96l-1.37-1.37c-.4-.4-.92-.59-1.43-.59-.52 0-1.04.2-1.43.59L10.3 9.45l-7.72 7.72c-.78.78-.78 2.05 0 2.83L4 21.41c.39.39.9.59 1.41.59.51 0 1.02-.2 1.41-.59l7.78-7.78 2.81-2.81c.8-.78.8-2.07 0-2.86zM5.41 20L4 18.59l7.72-7.72 1.47 1.35L5.41 20z\"/>\n",
              "  </svg>\n",
              "      </button>\n",
              "      \n",
              "  <style>\n",
              "    .colab-df-container {\n",
              "      display:flex;\n",
              "      flex-wrap:wrap;\n",
              "      gap: 12px;\n",
              "    }\n",
              "\n",
              "    .colab-df-convert {\n",
              "      background-color: #E8F0FE;\n",
              "      border: none;\n",
              "      border-radius: 50%;\n",
              "      cursor: pointer;\n",
              "      display: none;\n",
              "      fill: #1967D2;\n",
              "      height: 32px;\n",
              "      padding: 0 0 0 0;\n",
              "      width: 32px;\n",
              "    }\n",
              "\n",
              "    .colab-df-convert:hover {\n",
              "      background-color: #E2EBFA;\n",
              "      box-shadow: 0px 1px 2px rgba(60, 64, 67, 0.3), 0px 1px 3px 1px rgba(60, 64, 67, 0.15);\n",
              "      fill: #174EA6;\n",
              "    }\n",
              "\n",
              "    [theme=dark] .colab-df-convert {\n",
              "      background-color: #3B4455;\n",
              "      fill: #D2E3FC;\n",
              "    }\n",
              "\n",
              "    [theme=dark] .colab-df-convert:hover {\n",
              "      background-color: #434B5C;\n",
              "      box-shadow: 0px 1px 3px 1px rgba(0, 0, 0, 0.15);\n",
              "      filter: drop-shadow(0px 1px 2px rgba(0, 0, 0, 0.3));\n",
              "      fill: #FFFFFF;\n",
              "    }\n",
              "  </style>\n",
              "\n",
              "      <script>\n",
              "        const buttonEl =\n",
              "          document.querySelector('#df-71dec8a4-7dbc-4637-91e6-109d5222a9ea button.colab-df-convert');\n",
              "        buttonEl.style.display =\n",
              "          google.colab.kernel.accessAllowed ? 'block' : 'none';\n",
              "\n",
              "        async function convertToInteractive(key) {\n",
              "          const element = document.querySelector('#df-71dec8a4-7dbc-4637-91e6-109d5222a9ea');\n",
              "          const dataTable =\n",
              "            await google.colab.kernel.invokeFunction('convertToInteractive',\n",
              "                                                     [key], {});\n",
              "          if (!dataTable) return;\n",
              "\n",
              "          const docLinkHtml = 'Like what you see? Visit the ' +\n",
              "            '<a target=\"_blank\" href=https://colab.research.google.com/notebooks/data_table.ipynb>data table notebook</a>'\n",
              "            + ' to learn more about interactive tables.';\n",
              "          element.innerHTML = '';\n",
              "          dataTable['output_type'] = 'display_data';\n",
              "          await google.colab.output.renderOutput(dataTable, element);\n",
              "          const docLink = document.createElement('div');\n",
              "          docLink.innerHTML = docLinkHtml;\n",
              "          element.appendChild(docLink);\n",
              "        }\n",
              "      </script>\n",
              "    </div>\n",
              "  </div>\n",
              "  "
            ]
          },
          "metadata": {},
          "execution_count": 41
        }
      ]
    },
    {
      "cell_type": "code",
      "source": [
        "df.to_csv('sub.csv', index = False)"
      ],
      "metadata": {
        "id": "-INDeeUX69Vk"
      },
      "execution_count": 42,
      "outputs": []
    },
    {
      "cell_type": "code",
      "source": [],
      "metadata": {
        "id": "4N-Q-JBg7a_j"
      },
      "execution_count": null,
      "outputs": []
    }
  ]
}